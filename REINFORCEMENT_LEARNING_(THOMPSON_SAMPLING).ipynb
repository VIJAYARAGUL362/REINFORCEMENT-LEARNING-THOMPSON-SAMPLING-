{
  "nbformat": 4,
  "nbformat_minor": 0,
  "metadata": {
    "colab": {
      "provenance": [],
      "mount_file_id": "14d66Dc_iDp-F48ZOCEPm493WoqzewSrB",
      "authorship_tag": "ABX9TyPBnLvioVHd8hM/tWBwev1c",
      "include_colab_link": true
    },
    "kernelspec": {
      "name": "python3",
      "display_name": "Python 3"
    },
    "language_info": {
      "name": "python"
    }
  },
  "cells": [
    {
      "cell_type": "markdown",
      "metadata": {
        "id": "view-in-github",
        "colab_type": "text"
      },
      "source": [
        "<a href=\"https://colab.research.google.com/github/VIJAYARAGUL362/REINFORCEMENT-LEARNING-THOMPSON-SAMPLING-/blob/main/REINFORCEMENT_LEARNING_(THOMPSON_SAMPLING).ipynb\" target=\"_parent\"><img src=\"https://colab.research.google.com/assets/colab-badge.svg\" alt=\"Open In Colab\"/></a>"
      ]
    },
    {
      "cell_type": "markdown",
      "source": [
        "IMPORTING THE LIBRARY"
      ],
      "metadata": {
        "id": "04sbJCpLD4Ul"
      }
    },
    {
      "cell_type": "code",
      "execution_count": null,
      "metadata": {
        "id": "JJjUE3BrBchI"
      },
      "outputs": [],
      "source": [
        "import numpy as np\n",
        "import matplotlib.pyplot as plt\n",
        "import pandas as pd"
      ]
    },
    {
      "cell_type": "markdown",
      "source": [
        "IMPORTING THE DATASET"
      ],
      "metadata": {
        "id": "Ldv7KCmmEA2J"
      }
    },
    {
      "cell_type": "code",
      "source": [
        "dataset=pd.read_csv('/content/drive/MyDrive/Machine Learning A-Z (Codes and Datasets)/Part 6 - Reinforcement Learning/Section 33 - Thompson Sampling/Python/Ads_CTR_Optimisation.csv')"
      ],
      "metadata": {
        "id": "iygnGBTdEENl"
      },
      "execution_count": null,
      "outputs": []
    },
    {
      "cell_type": "markdown",
      "source": [
        "IMPLEMENTING THE THOMPSON SAMPLIN MODEL"
      ],
      "metadata": {
        "id": "PZQ9DkKWEbAv"
      }
    },
    {
      "cell_type": "code",
      "source": [
        "import random\n",
        "n=10000\n",
        "a=10\n",
        "number_of_reward1=[0]*a\n",
        "number_of_reward0=[0]*a\n",
        "ads_selected=[]\n",
        "total_rewards=0\n",
        "for o in range(0,n):\n",
        "   ad=0\n",
        "   max_random=0\n",
        "   for i in range(0,a):\n",
        "      random_beta=random.betavariate(number_of_reward1[i]+1,number_of_reward0[i]+1)\n",
        "      if random_beta> max_random:\n",
        "         max_random=random_beta\n",
        "         ad=i\n",
        "   ads_selected.append(ad)\n",
        "   reward=dataset.values[o,ad]\n",
        "   if reward==1:\n",
        "    number_of_reward1[i]=number_of_reward1[i]+1\n",
        "   else:\n",
        "    number_of_reward0[i]=number_of_reward0[i]+1\n",
        "   total_rewards=total_rewards+reward\n"
      ],
      "metadata": {
        "id": "BXHfe545EfwA"
      },
      "execution_count": null,
      "outputs": []
    },
    {
      "cell_type": "code",
      "metadata": {
        "id": "PCiHv51pyUII"
      },
      "source": [
        "import random\n",
        "N = 10000\n",
        "d = 10\n",
        "ads_selected = []\n",
        "numbers_of_rewards_1 = [0] * d\n",
        "numbers_of_rewards_0 = [0] * d\n",
        "total_reward = 0\n",
        "for n in range(0, N):\n",
        "    ad = 0\n",
        "    max_random = 0\n",
        "    for i in range(0, d):\n",
        "        random_beta = random.betavariate(numbers_of_rewards_1[i] + 1, numbers_of_rewards_0[i] + 1)\n",
        "        if random_beta > max_random:\n",
        "            max_random = random_beta\n",
        "            ad = i\n",
        "    ads_selected.append(ad)\n",
        "    reward = dataset.values[n, ad]\n",
        "    if reward == 1:\n",
        "        numbers_of_rewards_1[ad] = numbers_of_rewards_1[ad] + 1\n",
        "    else:\n",
        "        numbers_of_rewards_0[ad] = numbers_of_rewards_0[ad] + 1\n",
        "    total_reward = total_reward + reward"
      ],
      "execution_count": null,
      "outputs": []
    },
    {
      "cell_type": "markdown",
      "source": [
        "VISUALIZING THE RESULT"
      ],
      "metadata": {
        "id": "CR1_KtSjyUoY"
      }
    },
    {
      "cell_type": "code",
      "source": [
        "plt.hist(ads_selected)\n",
        "plt.title(\"THOMPSON SAMPLING\")\n",
        "plt.xlabel(\"ADS\")\n",
        "plt.ylabel(\"NUMBER OF OBSERVATION\")\n",
        "plt.show()"
      ],
      "metadata": {
        "colab": {
          "base_uri": "https://localhost:8080/",
          "height": 472
        },
        "id": "4AQxMAUcyW_b",
        "outputId": "0d74961d-a55a-455c-9034-787def2982a1"
      },
      "execution_count": null,
      "outputs": [
        {
          "output_type": "display_data",
          "data": {
            "text/plain": [
              "<Figure size 640x480 with 1 Axes>"
            ],
            "image/png": "[encoded data removed]"
          },
          "metadata": {}
        }
      ]
    }
  ]
}